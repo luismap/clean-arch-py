{
 "cells": [
  {
   "cell_type": "code",
   "execution_count": 10,
   "metadata": {},
   "outputs": [],
   "source": [
    "import yaml\n",
    "import logging"
   ]
  },
  {
   "cell_type": "code",
   "execution_count": 11,
   "metadata": {},
   "outputs": [
    {
     "name": "stdout",
     "output_type": "stream",
     "text": [
      "2023-03-08 09:59:35,929 - py-clean-arch - INFO - Configured the logger!\n"
     ]
    }
   ],
   "source": [
    "# Initialize the logger once as the application starts up.\n",
    "with open(\"../logging.yaml\", 'rt') as f:\n",
    "    config = yaml.safe_load(f.read())\n",
    "    logging.config.dictConfig(config)\n",
    " \n",
    "# Get an instance of the logger and use it to write a log!\n",
    "# Note: Do this AFTER the config is loaded above or it won't use the config.\n",
    "logger = logging.getLogger(\"py-clean-arch\")\n",
    "logger.info(\"Configured the logger!\")"
   ]
  },
  {
   "cell_type": "code",
   "execution_count": 12,
   "metadata": {},
   "outputs": [],
   "source": [
    "class NameSpace:\n",
    "    \"\"\"create and object from kwargs arguments\"\"\"\n",
    "    ACCEPTED_VALUES = (\"id_\", \"user\", \"location\")\n",
    "\n",
    "    def __init__(self, **data) -> None:\n",
    "        for attr, value in data.items():\n",
    "            if attr in self.ACCEPTED_VALUES:\n",
    "                setattr(self,attr, value)"
   ]
  },
  {
   "cell_type": "code",
   "execution_count": 15,
   "metadata": {},
   "outputs": [
    {
     "data": {
      "text/plain": [
       "{'id_': 20, 'user': 'luis', 'location': 'bahamas'}"
      ]
     },
     "execution_count": 15,
     "metadata": {},
     "output_type": "execute_result"
    }
   ],
   "source": [
    "ns = NameSpace(id_=20,user=\"luis\", location=\"bahamas\", noacepted=\"novalue\")\n",
    "ns.__dict__"
   ]
  },
  {
   "attachments": {},
   "cell_type": "markdown",
   "metadata": {},
   "source": [
    "# About inheritance\n",
    "scenario:\n",
    "Imagine we have\n",
    "a system for managing insurance, with a module in charge of applying policies\n",
    "to different clients. We need to keep in memory a set of customers that are being processed at the time in order to apply those changes before further processing\n",
    "or persistence. The basic operations we need are to store a new customer with its records as satellite data, apply a change to a policy, or edit some of the data, to name but a few. We also need to support a batch operation. That is, when something on the policy itself changes (the one this module is currently processing), we have to apply these changes overall to customers on the current transaction"
   ]
  },
  {
   "cell_type": "code",
   "execution_count": 17,
   "metadata": {},
   "outputs": [],
   "source": [
    "from datetime import date"
   ]
  },
  {
   "cell_type": "code",
   "execution_count": 123,
   "metadata": {},
   "outputs": [],
   "source": [
    "cl01 = {\"cl01\": {\"fee\":200.0, \"date\": date(2022,10,10)}}\n",
    "cl02 = {\"cl02\": {\"fee\":300.0, \"date\": date(2022,10,10)}}\n",
    "cl03 = {\"cl03\": {\"fee\":400.0, \"date\": date(2022,10,10)}}\n",
    "\n",
    "\n",
    "cl01_update= {\"cl01\": {\"date\":date(2022,12,2)}}"
   ]
  },
  {
   "cell_type": "code",
   "execution_count": 124,
   "metadata": {},
   "outputs": [],
   "source": [
    "class TransactionalPolicy:\n",
    "    def __init__(self,policy, **extra_data) -> None:\n",
    "        self._policies = {**policy, **extra_data}\n",
    "    \n",
    "    def update_policy(self, customer_id, policy_def):\n",
    "        self._policies[customer_id].update(**policy_def)\n",
    "    \n",
    "    def __getitem__(self, idx):\n",
    "        return self._policies[idx]\n",
    "\n",
    "    def __len__(self):\n",
    "        return len(self._policies)\n",
    "    \n",
    "    def __repr__(self) -> str:\n",
    "        return str(self._policies.items())\n",
    "    "
   ]
  },
  {
   "cell_type": "code",
   "execution_count": 125,
   "metadata": {},
   "outputs": [],
   "source": [
    "policies = TransactionalPolicy({**cl01,**cl02})"
   ]
  },
  {
   "cell_type": "code",
   "execution_count": 132,
   "metadata": {},
   "outputs": [
    {
     "data": {
      "text/plain": [
       "{'fee': 300.0, 'date': datetime.date(2022, 10, 10)}"
      ]
     },
     "execution_count": 132,
     "metadata": {},
     "output_type": "execute_result"
    }
   ],
   "source": [
    "policies[\"cl02\"]"
   ]
  },
  {
   "attachments": {},
   "cell_type": "markdown",
   "metadata": {},
   "source": [
    "# multiple inheritance"
   ]
  },
  {
   "cell_type": "code",
   "execution_count": 1,
   "metadata": {},
   "outputs": [],
   "source": [
    "# python uses and algorithm called C3 linearization or MRO to fix class dependencies\n",
    "\n",
    "class BaseModule:\n",
    "    module_name = \"base module\"\n",
    "    def __init__(self, module_name) -> None:\n",
    "        self.module_name = module_name\n",
    "    \n",
    "    def __repr__(self) -> str:\n",
    "        return f\"module name: {self.module_name}, classname:{self.__class__.__name__}\"\n",
    "\n",
    "class BaseModuleOne(BaseModule):\n",
    "    module_name=\"base module 01\"\n",
    "\n",
    "class BaseModuleTwo(BaseModule):\n",
    "    module_name=\"base module 02\"\n",
    "\n",
    "class BaseModuleThree(BaseModule):\n",
    "    module_name=\"base module 03\"\n",
    "\n",
    "class ConcreteModuleA(BaseModuleOne, BaseModuleTwo):\n",
    "   \"\"\"extends one and two\"\"\"\n",
    "\n",
    "class ConcreteModuleB(BaseModuleTwo,BaseModuleThree):\n",
    "    \"\"\"extends two and four\"\"\""
   ]
  },
  {
   "cell_type": "code",
   "execution_count": 2,
   "metadata": {},
   "outputs": [
    {
     "data": {
      "text/plain": [
       "module name: test, classname:ConcreteModuleA"
      ]
     },
     "execution_count": 2,
     "metadata": {},
     "output_type": "execute_result"
    }
   ],
   "source": [
    "ConcreteModuleA(\"test\")"
   ]
  },
  {
   "cell_type": "code",
   "execution_count": 3,
   "metadata": {},
   "outputs": [
    {
     "data": {
      "text/plain": [
       "['ConcreteModuleA', 'BaseModuleOne', 'BaseModuleTwo', 'BaseModule', 'object']"
      ]
     },
     "execution_count": 3,
     "metadata": {},
     "output_type": "execute_result"
    }
   ],
   "source": [
    "# to check the class resolution order\n",
    "[cls.__name__ for cls in ConcreteModuleA.mro()]"
   ]
  },
  {
   "attachments": {},
   "cell_type": "markdown",
   "metadata": {},
   "source": [
    "# mixins\n",
    "A mixin is a base class that encapsulates some common behavior with the goal of reusing code."
   ]
  },
  {
   "cell_type": "code",
   "execution_count": 4,
   "metadata": {},
   "outputs": [],
   "source": [
    "class Tokenizer:\n",
    "    def __init__(self, token) -> None:\n",
    "        self.str_token = token\n",
    "    def __iter__(self):\n",
    "        yield from self.str_token.split(\"-\")"
   ]
  },
  {
   "cell_type": "code",
   "execution_count": 5,
   "metadata": {},
   "outputs": [
    {
     "data": {
      "text/plain": [
       "['asdf', 'asdfa', 'i99302']"
      ]
     },
     "execution_count": 5,
     "metadata": {},
     "output_type": "execute_result"
    }
   ],
   "source": [
    "[i for i in Tokenizer(\"asdf-asdfa-i99302\")]"
   ]
  },
  {
   "cell_type": "code",
   "execution_count": 9,
   "metadata": {},
   "outputs": [],
   "source": [
    "# imagine we want to tokenize to upper case without changing behviour of class, use mixins\n",
    "\n",
    "class UpperMixin:\n",
    "    def __iter__(self):\n",
    "        return map(str.upper, super().__iter__())\n",
    "    \n",
    "\n",
    "class UpperTokenizer(UpperMixin,Tokenizer):\n",
    "    pass\n",
    "    "
   ]
  },
  {
   "cell_type": "code",
   "execution_count": 13,
   "metadata": {},
   "outputs": [
    {
     "name": "stdout",
     "output_type": "stream",
     "text": [
      "['UpperTokenizer', 'UpperMixin', 'Tokenizer', 'object']\n"
     ]
    }
   ],
   "source": [
    "ut = UpperTokenizer(\"dkdjd-wwow-dkdk\")\n",
    "[e for e in ut]\n",
    "print([cls.__name__ for cls in UpperTokenizer.mro()])"
   ]
  },
  {
   "attachments": {},
   "cell_type": "markdown",
   "metadata": {},
   "source": [
    "# in python all arguments are passed by value"
   ]
  },
  {
   "cell_type": "code",
   "execution_count": 17,
   "metadata": {},
   "outputs": [
    {
     "name": "stdout",
     "output_type": "stream",
     "text": [
      "hello\n",
      "['h', 'e', 'l', 'l', 'o']\n"
     ]
    }
   ],
   "source": [
    "inmutable = \"hello\"\n",
    "mutable = list(\"hello\")\n",
    "print(inmutable)\n",
    "print(mutable)\n",
    "\n",
    "def mutable_function(param):\n",
    "    param += \" mutate param\"\n",
    "    return param"
   ]
  },
  {
   "cell_type": "code",
   "execution_count": 18,
   "metadata": {},
   "outputs": [
    {
     "name": "stdout",
     "output_type": "stream",
     "text": [
      "hello mutate param\n",
      "hello\n",
      "['h', 'e', 'l', 'l', 'o', ' ', 'm', 'u', 't', 'a', 't', 'e', ' ', 'p', 'a', 'r', 'a', 'm']\n",
      "['h', 'e', 'l', 'l', 'o', ' ', 'm', 'u', 't', 'a', 't', 'e', ' ', 'p', 'a', 'r', 'a', 'm']\n"
     ]
    }
   ],
   "source": [
    "print(mutable_function(inmutable))\n",
    "print(inmutable)\n",
    "print(mutable_function(mutable))\n",
    "print(mutable)"
   ]
  },
  {
   "cell_type": "code",
   "execution_count": 19,
   "metadata": {},
   "outputs": [],
   "source": [
    "# becarefull when passing parameters that are mutalbe ex. list"
   ]
  },
  {
   "cell_type": "code",
   "execution_count": 1,
   "metadata": {},
   "outputs": [],
   "source": [
    "DEFAULT_TIMEOUT=30\n",
    "\n",
    "def function(**kwargs): # wrong\n",
    "    timeout = kwargs.get(\"timeout\", DEFAULT_TIMEOUT) \n",
    "    pass\n",
    "\n",
    "#Let Python do the unpacking and set the default argument at the signature:\n",
    "def function(timeout=DEFAULT_TIMEOUT, **kwargs): # better \n",
    "    pass"
   ]
  },
  {
   "cell_type": "code",
   "execution_count": null,
   "metadata": {},
   "outputs": [],
   "source": []
  }
 ],
 "metadata": {
  "kernelspec": {
   "display_name": "py-clean-arch",
   "language": "python",
   "name": "python3"
  },
  "language_info": {
   "codemirror_mode": {
    "name": "ipython",
    "version": 3
   },
   "file_extension": ".py",
   "mimetype": "text/x-python",
   "name": "python",
   "nbconvert_exporter": "python",
   "pygments_lexer": "ipython3",
   "version": "3.9.15"
  },
  "orig_nbformat": 4,
  "vscode": {
   "interpreter": {
    "hash": "f5d8522543c0df487dac683ea0da01f27fe3d08151b3f64fd63059eabf240b6d"
   }
  }
 },
 "nbformat": 4,
 "nbformat_minor": 2
}
