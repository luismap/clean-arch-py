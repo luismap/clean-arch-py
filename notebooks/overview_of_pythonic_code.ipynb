{
 "cells": [
  {
   "cell_type": "code",
   "execution_count": 1,
   "metadata": {},
   "outputs": [],
   "source": [
    "import yaml\n",
    "import logging"
   ]
  },
  {
   "cell_type": "code",
   "execution_count": 2,
   "metadata": {},
   "outputs": [
    {
     "name": "stdout",
     "output_type": "stream",
     "text": [
      "2023-01-09 09:31:02,421 - py-clean-arch - INFO - Configured the logger!\n"
     ]
    }
   ],
   "source": [
    "# Initialize the logger once as the application starts up.\n",
    "with open(\"../logging.yaml\", 'rt') as f:\n",
    "    config = yaml.safe_load(f.read())\n",
    "    logging.config.dictConfig(config)\n",
    " \n",
    "# Get an instance of the logger and use it to write a log!\n",
    "# Note: Do this AFTER the config is loaded above or it won't use the config.\n",
    "logger = logging.getLogger(\"py-clean-arch\")\n",
    "logger.info(\"Configured the logger!\")"
   ]
  },
  {
   "cell_type": "code",
   "execution_count": 3,
   "metadata": {},
   "outputs": [],
   "source": [
    "def stop_database():\n",
    "   logging.info(\"stopping db\") \n",
    "def start_database():\n",
    "    logging.info(\"starting db\")\n",
    "\n",
    "class DBHandler:\n",
    "    \"\"\"for a context manager define.\n",
    "        1 __enter__ method\n",
    "        2 __exit__ method\n",
    "    \"\"\"\n",
    "    def __enter__(self):\n",
    "        stop_database()\n",
    "        return self\n",
    "    def __exit__(self, exc_type, ex_value, ex_traceback):\n",
    "        start_database()\n",
    "\n",
    "def db_backup():\n",
    "    logging.info(\"doing backup\")\n",
    "\n",
    "def check():\n",
    "    with DBHandler():\n",
    "        db_backup()"
   ]
  },
  {
   "cell_type": "code",
   "execution_count": 4,
   "metadata": {},
   "outputs": [
    {
     "name": "stdout",
     "output_type": "stream",
     "text": [
      "2023-01-09 09:31:02,486 - root - INFO - stopping db\n",
      "2023-01-09 09:31:02,492 - root - INFO - doing backup\n",
      "2023-01-09 09:31:02,495 - root - INFO - starting db\n"
     ]
    }
   ],
   "source": [
    "check()"
   ]
  },
  {
   "cell_type": "code",
   "execution_count": 5,
   "metadata": {},
   "outputs": [
    {
     "name": "stdout",
     "output_type": "stream",
     "text": [
      "2023-01-09 09:31:02,526 - root - INFO - stopping db\n",
      "2023-01-09 09:31:02,531 - root - INFO - doing backup\n",
      "2023-01-09 09:31:02,538 - root - INFO - starting db\n"
     ]
    }
   ],
   "source": [
    "# rewriting the above using the context manager lib\n",
    "import contextlib\n",
    "\n",
    "@contextlib.contextmanager\n",
    "def db_handler():\n",
    "    try:\n",
    "        stop_database()\n",
    "        yield\n",
    "    finally:\n",
    "        start_database()\n",
    "\n",
    "\n",
    "with db_handler():\n",
    "    db_backup()"
   ]
  },
  {
   "cell_type": "code",
   "execution_count": 6,
   "metadata": {},
   "outputs": [],
   "source": [
    "# other way of writing context manager by extending a class\n",
    "class dbhandler_decorator(contextlib.ContextDecorator):\n",
    "    def __enter__(self):\n",
    "        stop_database()\n",
    "        return self\n",
    "    \n",
    "    def __exit__(self, ext_type, ex_value, ex_traceback):\n",
    "        start_database()\n",
    "\n",
    "\n",
    "\n",
    "@dbhandler_decorator()\n",
    "def offline_backup():\n",
    "    db_backup()"
   ]
  },
  {
   "cell_type": "code",
   "execution_count": 7,
   "metadata": {},
   "outputs": [
    {
     "name": "stdout",
     "output_type": "stream",
     "text": [
      "2023-01-09 09:31:02,590 - root - INFO - stopping db\n",
      "2023-01-09 09:31:02,592 - root - INFO - doing backup\n",
      "2023-01-09 09:31:02,595 - root - INFO - starting db\n"
     ]
    }
   ],
   "source": [
    "offline_backup()"
   ]
  },
  {
   "cell_type": "code",
   "execution_count": 8,
   "metadata": {},
   "outputs": [
    {
     "name": "stdout",
     "output_type": "stream",
     "text": [
      "2023-01-09 09:31:02,622 - root - INFO - stopping db\n",
      "2023-01-09 09:31:02,623 - root - INFO - doing backup\n",
      "2023-01-09 09:31:02,625 - root - INFO - starting db\n"
     ]
    }
   ],
   "source": [
    "#if you want to access the object\n",
    "with dbhandler_decorator() as handler:\n",
    "    db_backup()"
   ]
  },
  {
   "cell_type": "code",
   "execution_count": 9,
   "metadata": {},
   "outputs": [],
   "source": [
    "# if you need to create your own getter and setter with some functionality use properties decorator\n",
    "class Coordinate:\n",
    "    def __init__(self, lat: float, long: float) -> None:\n",
    "        self._latitude = self._longitude = None\n",
    "        self.latitude = lat\n",
    "        self.longitude = long\n",
    "\n",
    "    @property\n",
    "    def latitude(self) -> float:\n",
    "        return self._latitude\n",
    "\n",
    "    @latitude.setter\n",
    "    def latitude(self, lat_value: float) -> None:\n",
    "        if lat_value not in range(-90, 90 + 1):\n",
    "            raise ValueError(f\"{lat_value} is an invalid value for latitude\")\n",
    "        self._latitude = lat_value\n",
    "\n",
    "    @property\n",
    "    def longitude(self) -> float:\n",
    "        return self._longitude\n",
    "\n",
    "    @longitude.setter\n",
    "    def longitude(self, long_value: float) -> None:\n",
    "        if long_value not in range(-180, 180 + 1):\n",
    "            raise ValueError(f\"{long_value} is an invalid value for longitude\")\n",
    "        self._longitude = long_value\n",
    "\n",
    "    def __repr__(self) -> str:\n",
    "        return f\"Coordinate(lat: {self.latitude}, lon: {self.longitude})\""
   ]
  },
  {
   "cell_type": "code",
   "execution_count": 10,
   "metadata": {},
   "outputs": [
    {
     "name": "stdout",
     "output_type": "stream",
     "text": [
      "Coordinate(lat: 90, lon: 33)\n",
      "Coordinate(lat: 50, lon: 33)\n"
     ]
    }
   ],
   "source": [
    "a = Coordinate(90,33)\n",
    "print(a)\n",
    "a.latitude = 50\n",
    "print(a)"
   ]
  },
  {
   "cell_type": "code",
   "execution_count": null,
   "metadata": {},
   "outputs": [],
   "source": []
  },
  {
   "cell_type": "code",
   "execution_count": null,
   "metadata": {},
   "outputs": [],
   "source": []
  },
  {
   "cell_type": "code",
   "execution_count": null,
   "metadata": {},
   "outputs": [],
   "source": []
  }
 ],
 "metadata": {
  "kernelspec": {
   "display_name": "py-clean-arch",
   "language": "python",
   "name": "python3"
  },
  "language_info": {
   "codemirror_mode": {
    "name": "ipython",
    "version": 3
   },
   "file_extension": ".py",
   "mimetype": "text/x-python",
   "name": "python",
   "nbconvert_exporter": "python",
   "pygments_lexer": "ipython3",
   "version": "3.9.15"
  },
  "orig_nbformat": 4,
  "vscode": {
   "interpreter": {
    "hash": "f5d8522543c0df487dac683ea0da01f27fe3d08151b3f64fd63059eabf240b6d"
   }
  }
 },
 "nbformat": 4,
 "nbformat_minor": 2
}
